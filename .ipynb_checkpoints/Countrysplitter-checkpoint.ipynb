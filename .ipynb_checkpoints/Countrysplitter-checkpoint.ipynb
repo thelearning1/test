{
 "cells": [
  {
   "cell_type": "code",
   "execution_count": 1,
   "metadata": {},
   "outputs": [],
   "source": [
    "import pandas as pd\n",
    "import csv\n",
    "import json"
   ]
  },
  {
   "cell_type": "code",
   "execution_count": 2,
   "metadata": {},
   "outputs": [],
   "source": [
    "countries_csv = pd.read_csv('countries.csv',index_col=False)\n",
    "data_csv = pd.read_csv('countryPredictions.csv',index_col=False)\n",
    "stor_dir = './by_country/pred/'\n",
    "countries_df = pd.DataFrame(countries_csv)\n",
    "Data_df = pd.DataFrame(data_csv)"
   ]
  },
  {
   "cell_type": "code",
   "execution_count": 3,
   "metadata": {},
   "outputs": [],
   "source": [
    "for index, row in countries_df.iterrows():\n",
    "    NOC = row['NOC']\n",
    "    Country = str(row['Country'])\n",
    "    filename = f'{Country}.csv'\n",
    "    dataframe = Data_df[Data_df['NOC'] == NOC]\n",
    "    dataframe.to_csv(stor_dir + filename,index=False)"
   ]
  },
  {
   "cell_type": "code",
   "execution_count": null,
   "metadata": {},
   "outputs": [],
   "source": []
  }
 ],
 "metadata": {
  "kernelspec": {
   "display_name": "Python [conda env:.conda-PythonData] *",
   "language": "python",
   "name": "conda-env-.conda-PythonData-py"
  },
  "language_info": {
   "codemirror_mode": {
    "name": "ipython",
    "version": 3
   },
   "file_extension": ".py",
   "mimetype": "text/x-python",
   "name": "python",
   "nbconvert_exporter": "python",
   "pygments_lexer": "ipython3",
   "version": "3.8.5"
  }
 },
 "nbformat": 4,
 "nbformat_minor": 4
}
